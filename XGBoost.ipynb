{
  "nbformat": 4,
  "nbformat_minor": 0,
  "metadata": {
    "colab": {
      "name": "XGBoost.ipynb",
      "provenance": [],
      "collapsed_sections": []
    },
    "kernelspec": {
      "name": "python3",
      "display_name": "Python 3"
    }
  },
  "cells": [
    {
      "cell_type": "code",
      "metadata": {
        "id": "cJiWt7h2Oix3",
        "colab_type": "code",
        "colab": {}
      },
      "source": [
        "from sklearn import model_selection, preprocessing, linear_model, naive_bayes, metrics, svm\n",
        "from sklearn.feature_extraction.text import TfidfVectorizer, CountVectorizer\n",
        "from sklearn import decomposition, ensemble\n",
        "import json\n",
        "import pandas as pd\n",
        "import numpy as np\n",
        "import xgboost, textblob, string"
      ],
      "execution_count": 0,
      "outputs": []
    },
    {
      "cell_type": "code",
      "metadata": {
        "id": "L2Cv0VI5R4Va",
        "colab_type": "code",
        "colab": {}
      },
      "source": [
        "data=[]\n",
        "with open('/content/drive/My Drive/Shinra/dataset.json', 'r', encoding='utf-8') as ene_file:\n",
        "    for line in ene_file.readlines():\n",
        "        line = str(line).strip()\n",
        "        # #workaround for escape characters\n",
        "        # if \"\\'\" in line:\n",
        "        #     line = line.replace(\"\\'\", \"\\\\'\")\n",
        "        data.append(json.loads(line))"
      ],
      "execution_count": 0,
      "outputs": []
    },
    {
      "cell_type": "code",
      "metadata": {
        "id": "EpmXkJYxUEDS",
        "colab_type": "code",
        "colab": {}
      },
      "source": [
        "df = pd.DataFrame(columns=['page_id','text','category'])"
      ],
      "execution_count": 0,
      "outputs": []
    },
    {
      "cell_type": "code",
      "metadata": {
        "id": "bDPZM1EdUzY1",
        "colab_type": "code",
        "colab": {}
      },
      "source": [
        "for i in range(0,30492):\n",
        "    df.loc[i]=[int(data[i].get('page_id')),data[i].get('text'),int(data[i].get('classes')[0])]"
      ],
      "execution_count": 0,
      "outputs": []
    },
    {
      "cell_type": "code",
      "metadata": {
        "id": "GBa_nHPYb23A",
        "colab_type": "code",
        "outputId": "d0539f69-0b9c-4152-c9c8-d025dfb7940b",
        "colab": {
          "base_uri": "https://localhost:8080/",
          "height": 85
        }
      },
      "source": [
        "df.astype({'category': 'int64'},copy=False).dtypes"
      ],
      "execution_count": 0,
      "outputs": [
        {
          "output_type": "execute_result",
          "data": {
            "text/plain": [
              "page_id     object\n",
              "text        object\n",
              "category     int64\n",
              "dtype: object"
            ]
          },
          "metadata": {
            "tags": []
          },
          "execution_count": 5
        }
      ]
    },
    {
      "cell_type": "code",
      "metadata": {
        "id": "Nnu4Wpy-dJ6X",
        "colab_type": "code",
        "outputId": "3f29e827-6425-4a81-8796-d5492533ea2d",
        "colab": {
          "base_uri": "https://localhost:8080/",
          "height": 187
        }
      },
      "source": [
        "df.info()"
      ],
      "execution_count": 0,
      "outputs": [
        {
          "output_type": "stream",
          "text": [
            "<class 'pandas.core.frame.DataFrame'>\n",
            "Int64Index: 30492 entries, 0 to 30491\n",
            "Data columns (total 3 columns):\n",
            " #   Column    Non-Null Count  Dtype \n",
            "---  ------    --------------  ----- \n",
            " 0   page_id   30492 non-null  object\n",
            " 1   text      30492 non-null  object\n",
            " 2   category  30492 non-null  object\n",
            "dtypes: object(3)\n",
            "memory usage: 952.9+ KB\n"
          ],
          "name": "stdout"
        }
      ]
    },
    {
      "cell_type": "code",
      "metadata": {
        "id": "DEv8Sk7GZEq6",
        "colab_type": "code",
        "colab": {}
      },
      "source": [
        "X=df['text'].values\n",
        "y=df['category'].values"
      ],
      "execution_count": 0,
      "outputs": []
    },
    {
      "cell_type": "code",
      "metadata": {
        "id": "36-yqF1yOubM",
        "colab_type": "code",
        "colab": {}
      },
      "source": [
        "train_x, test_x, train_y, test_y = model_selection.train_test_split(X, y,test_size=0.1,stratify=y)"
      ],
      "execution_count": 0,
      "outputs": []
    },
    {
      "cell_type": "code",
      "metadata": {
        "id": "b_69BYXtO_ec",
        "colab_type": "code",
        "outputId": "3d80d25f-6943-426a-a028-517123791631",
        "colab": {
          "base_uri": "https://localhost:8080/",
          "height": 119
        }
      },
      "source": [
        "count_vect = CountVectorizer()\n",
        "count_vect.fit(train_x)"
      ],
      "execution_count": 0,
      "outputs": [
        {
          "output_type": "execute_result",
          "data": {
            "text/plain": [
              "CountVectorizer(analyzer='word', binary=False, decode_error='strict',\n",
              "                dtype=<class 'numpy.int64'>, encoding='utf-8', input='content',\n",
              "                lowercase=True, max_df=1.0, max_features=None, min_df=1,\n",
              "                ngram_range=(1, 1), preprocessor=None, stop_words=None,\n",
              "                strip_accents=None, token_pattern='(?u)\\\\b\\\\w\\\\w+\\\\b',\n",
              "                tokenizer=None, vocabulary=None)"
            ]
          },
          "metadata": {
            "tags": []
          },
          "execution_count": 9
        }
      ]
    },
    {
      "cell_type": "code",
      "metadata": {
        "id": "3UqZjFCTPCc8",
        "colab_type": "code",
        "colab": {}
      },
      "source": [
        "xtrain_count =  count_vect.transform(train_x)\n",
        "xtest_count =  count_vect.transform(test_x)"
      ],
      "execution_count": 0,
      "outputs": []
    },
    {
      "cell_type": "code",
      "metadata": {
        "id": "owN4tMkHX3S4",
        "colab_type": "code",
        "colab": {}
      },
      "source": [
        "classifier=xgboost.XGBClassifier()"
      ],
      "execution_count": 0,
      "outputs": []
    },
    {
      "cell_type": "code",
      "metadata": {
        "id": "ZtXxe8JTXwcK",
        "colab_type": "code",
        "outputId": "57ae671f-40cf-4ded-ae17-81f576cf0854",
        "colab": {
          "base_uri": "https://localhost:8080/",
          "height": 136
        }
      },
      "source": [
        "classifier.fit(xtrain_count.tocsc(), train_y)"
      ],
      "execution_count": 0,
      "outputs": [
        {
          "output_type": "execute_result",
          "data": {
            "text/plain": [
              "XGBClassifier(base_score=0.5, booster='gbtree', colsample_bylevel=1,\n",
              "              colsample_bynode=1, colsample_bytree=1, gamma=0,\n",
              "              learning_rate=0.1, max_delta_step=0, max_depth=3,\n",
              "              min_child_weight=1, missing=None, n_estimators=100, n_jobs=1,\n",
              "              nthread=None, objective='multi:softprob', random_state=0,\n",
              "              reg_alpha=0, reg_lambda=1, scale_pos_weight=1, seed=None,\n",
              "              silent=None, subsample=1, verbosity=1)"
            ]
          },
          "metadata": {
            "tags": []
          },
          "execution_count": 12
        }
      ]
    },
    {
      "cell_type": "code",
      "metadata": {
        "id": "Sil1TaBCYfHK",
        "colab_type": "code",
        "colab": {}
      },
      "source": [
        "predictions = classifier.predict(xtest_count.tocsc())"
      ],
      "execution_count": 0,
      "outputs": []
    },
    {
      "cell_type": "code",
      "metadata": {
        "id": "BwWP_BCkc9eA",
        "colab_type": "code",
        "colab": {}
      },
      "source": [
        "preds=np.array(predictions)\n",
        "preds = preds.astype('int64') "
      ],
      "execution_count": 0,
      "outputs": []
    },
    {
      "cell_type": "code",
      "metadata": {
        "colab_type": "code",
        "id": "_ZUPS0HhdwEj",
        "colab": {}
      },
      "source": [
        "test_y_n=np.array(test_y)\n",
        "test_y_n= test_y_n.astype('int64') "
      ],
      "execution_count": 0,
      "outputs": []
    },
    {
      "cell_type": "code",
      "metadata": {
        "id": "neGp7mWBYKb5",
        "colab_type": "code",
        "outputId": "d0d0dc8e-14ea-4e5e-c266-ffcaf1f82569",
        "colab": {
          "base_uri": "https://localhost:8080/",
          "height": 34
        }
      },
      "source": [
        "from sklearn.metrics import accuracy_score\n",
        "accuracy_score(test_y_n, preds)"
      ],
      "execution_count": 0,
      "outputs": [
        {
          "output_type": "execute_result",
          "data": {
            "text/plain": [
              "0.818688524590164"
            ]
          },
          "metadata": {
            "tags": []
          },
          "execution_count": 18
        }
      ]
    },
    {
      "cell_type": "code",
      "metadata": {
        "id": "2LOqlIPDYQAZ",
        "colab_type": "code",
        "outputId": "5eaf0d69-ce18-4d62-fd26-6b116c8c8899",
        "colab": {
          "base_uri": "https://localhost:8080/",
          "height": 221
        }
      },
      "source": [
        "from sklearn.metrics import classification_report\n",
        "print(classification_report(test_y_n, preds))"
      ],
      "execution_count": 0,
      "outputs": [
        {
          "output_type": "stream",
          "text": [
            "              precision    recall  f1-score   support\n",
            "\n",
            "           0       0.63      0.34      0.44       564\n",
            "           1       0.82      0.95      0.88      2106\n",
            "           2       0.98      0.93      0.95       280\n",
            "           3       0.91      0.97      0.94        31\n",
            "           9       0.96      0.35      0.51        69\n",
            "\n",
            "    accuracy                           0.82      3050\n",
            "   macro avg       0.86      0.71      0.74      3050\n",
            "weighted avg       0.81      0.82      0.80      3050\n",
            "\n"
          ],
          "name": "stdout"
        }
      ]
    }
  ]
}