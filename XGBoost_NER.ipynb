{
  "nbformat": 4,
  "nbformat_minor": 0,
  "metadata": {
    "colab": {
      "name": "XGBoost NER.ipynb",
      "provenance": [],
      "collapsed_sections": []
    },
    "kernelspec": {
      "name": "python3",
      "display_name": "Python 3"
    }
  },
  "cells": [
    {
      "cell_type": "code",
      "metadata": {
        "id": "mqCzYUykC5qT",
        "colab_type": "code",
        "outputId": "cdb21ff0-97e5-431d-c73f-5e6e4c26e42f",
        "colab": {
          "base_uri": "https://localhost:8080/",
          "height": 71
        }
      },
      "source": [
        "from sklearn import model_selection, preprocessing, linear_model, naive_bayes, metrics, svm\n",
        "from sklearn.feature_extraction.text import TfidfVectorizer, CountVectorizer\n",
        "from sklearn import decomposition, ensemble\n",
        "import pandas as pd\n",
        "import numpy as np\n",
        "import xgboost, textblob, string\n",
        "from imblearn.over_sampling import RandomOverSampler,SMOTE, ADASYN\n",
        "from sklearn.metrics import accuracy_score, classification_report, confusion_matrix, roc_curve, roc_auc_score\n",
        "import matplotlib.pyplot as plt\n",
        "from sklearn.utils import shuffle"
      ],
      "execution_count": 0,
      "outputs": [
        {
          "output_type": "stream",
          "text": [
            "FutureWarning: The module is deprecated in version 0.21 and will be removed in version 0.23 since we've dropped support for Python 2.7. Please rely on the official version of six (https://pypi.org/project/six/).\n",
            "FutureWarning: The sklearn.neighbors.base module is  deprecated in version 0.22 and will be removed in version 0.24. The corresponding classes / functions should instead be imported from sklearn.neighbors. Anything that cannot be imported from sklearn.neighbors is now part of the private API.\n"
          ],
          "name": "stderr"
        }
      ]
    },
    {
      "cell_type": "code",
      "metadata": {
        "id": "xNjpgG2nkiPP",
        "colab_type": "code",
        "outputId": "8ccf0b8d-e275-4f77-9ddb-8bad6153f5fc",
        "colab": {
          "base_uri": "https://localhost:8080/",
          "height": 34
        }
      },
      "source": [
        "df = pd.read_csv('/content/drive/My Drive/Shinra/entity_df_filtered.csv',encoding='utf-8',error_bad_lines=False,engine='python')"
      ],
      "execution_count": 0,
      "outputs": [
        {
          "output_type": "stream",
          "text": [
            "Skipping line 29144: field larger than field limit (131072)\n"
          ],
          "name": "stderr"
        }
      ]
    },
    {
      "cell_type": "code",
      "metadata": {
        "id": "HDGMYJEzpcLb",
        "colab_type": "code",
        "colab": {}
      },
      "source": [
        "df = shuffle(df,random_state=0)"
      ],
      "execution_count": 0,
      "outputs": []
    },
    {
      "cell_type": "code",
      "metadata": {
        "id": "xkeBp8U0JmU8",
        "colab_type": "code",
        "colab": {}
      },
      "source": [
        "df.dropna(inplace=True)"
      ],
      "execution_count": 0,
      "outputs": []
    },
    {
      "cell_type": "code",
      "metadata": {
        "id": "0lVWKYkMpm8S",
        "colab_type": "code",
        "colab": {}
      },
      "source": [
        "df.reset_index(drop=True,inplace=True)"
      ],
      "execution_count": 0,
      "outputs": []
    },
    {
      "cell_type": "code",
      "metadata": {
        "id": "xDCvCyeVAkva",
        "colab_type": "code",
        "outputId": "be75fc5c-280a-4b1a-80a6-39068bbc6cf6",
        "colab": {
          "base_uri": "https://localhost:8080/",
          "height": 221
        }
      },
      "source": [
        "df.info()"
      ],
      "execution_count": 0,
      "outputs": [
        {
          "output_type": "stream",
          "text": [
            "<class 'pandas.core.frame.DataFrame'>\n",
            "RangeIndex: 23667 entries, 0 to 23666\n",
            "Data columns (total 5 columns):\n",
            " #   Column       Non-Null Count  Dtype \n",
            "---  ------       --------------  ----- \n",
            " 0   page_id      23667 non-null  int64 \n",
            " 1   text         23667 non-null  object\n",
            " 2   entity_name  23667 non-null  object\n",
            " 3   entity_type  23667 non-null  object\n",
            " 4   category     23667 non-null  int64 \n",
            "dtypes: int64(2), object(3)\n",
            "memory usage: 924.6+ KB\n"
          ],
          "name": "stdout"
        }
      ]
    },
    {
      "cell_type": "code",
      "metadata": {
        "id": "RDRTiYl2mNlv",
        "colab_type": "code",
        "colab": {}
      },
      "source": [
        "X = df['entity_type'].values\n",
        "y = df['category'].values"
      ],
      "execution_count": 0,
      "outputs": []
    },
    {
      "cell_type": "code",
      "metadata": {
        "id": "36-yqF1yOubM",
        "colab_type": "code",
        "colab": {}
      },
      "source": [
        "train_x, test_x, train_y, test_y = model_selection.train_test_split(X, y,test_size=0.1,stratify=y,random_state=0)"
      ],
      "execution_count": 0,
      "outputs": []
    },
    {
      "cell_type": "code",
      "metadata": {
        "id": "iBTQzt_QrYv9",
        "colab_type": "code",
        "colab": {}
      },
      "source": [
        "tfidf_vect = CountVectorizer()\n",
        "tfidf_vect.fit(train_x)\n",
        "xtrain_tfidf =  tfidf_vect.transform(train_x)\n",
        "xtest_tfidf =  tfidf_vect.transform(test_x)"
      ],
      "execution_count": 0,
      "outputs": []
    },
    {
      "cell_type": "code",
      "metadata": {
        "colab_type": "code",
        "outputId": "a26a8085-a5c9-48bb-c176-929e9d737a4d",
        "id": "C_Ir4YwXDppj",
        "colab": {
          "base_uri": "https://localhost:8080/",
          "height": 136
        }
      },
      "source": [
        "classifier=xgboost.XGBClassifier()\n",
        "classifier.fit(xtrain_tfidf.tocsc(), train_y)"
      ],
      "execution_count": 0,
      "outputs": [
        {
          "output_type": "execute_result",
          "data": {
            "text/plain": [
              "XGBClassifier(base_score=0.5, booster='gbtree', colsample_bylevel=1,\n",
              "              colsample_bynode=1, colsample_bytree=1, gamma=0,\n",
              "              learning_rate=0.1, max_delta_step=0, max_depth=3,\n",
              "              min_child_weight=1, missing=None, n_estimators=100, n_jobs=1,\n",
              "              nthread=None, objective='multi:softprob', random_state=0,\n",
              "              reg_alpha=0, reg_lambda=1, scale_pos_weight=1, seed=None,\n",
              "              silent=None, subsample=1, verbosity=1)"
            ]
          },
          "metadata": {
            "tags": []
          },
          "execution_count": 58
        }
      ]
    },
    {
      "cell_type": "code",
      "metadata": {
        "colab_type": "code",
        "id": "oBYkuTXIDppt",
        "colab": {}
      },
      "source": [
        "predictions = classifier.predict(xtest_tfidf.tocsc())\n",
        "preds=np.array(predictions)\n",
        "preds = preds.astype('int64') \n",
        "test_y_n=np.array(test_y)\n",
        "test_y_n= test_y_n.astype('int64') "
      ],
      "execution_count": 0,
      "outputs": []
    },
    {
      "cell_type": "code",
      "metadata": {
        "colab_type": "code",
        "outputId": "3a8fde38-4dba-4a92-f246-d05fa4411856",
        "id": "35TV8krgDppx",
        "colab": {
          "base_uri": "https://localhost:8080/",
          "height": 34
        }
      },
      "source": [
        "print(accuracy_score(test_y_n, preds))"
      ],
      "execution_count": 0,
      "outputs": [
        {
          "output_type": "stream",
          "text": [
            "0.7798901563160119\n"
          ],
          "name": "stdout"
        }
      ]
    },
    {
      "cell_type": "code",
      "metadata": {
        "colab_type": "code",
        "outputId": "25f28a7f-903b-45bb-a6b0-697c4dffc87e",
        "id": "tkjREG5cDpp1",
        "colab": {
          "base_uri": "https://localhost:8080/",
          "height": 258
        }
      },
      "source": [
        "print(classification_report(test_y_n, preds))"
      ],
      "execution_count": 0,
      "outputs": [
        {
          "output_type": "stream",
          "text": [
            "              precision    recall  f1-score   support\n",
            "\n",
            "           0       0.00      0.00      0.00       321\n",
            "           1       0.78      1.00      0.87      1787\n",
            "           2       0.93      0.38      0.54       170\n",
            "           3       0.00      0.00      0.00        30\n",
            "           9       0.00      0.00      0.00        59\n",
            "\n",
            "    accuracy                           0.78      2367\n",
            "   macro avg       0.34      0.27      0.28      2367\n",
            "weighted avg       0.65      0.78      0.70      2367\n",
            "\n"
          ],
          "name": "stdout"
        },
        {
          "output_type": "stream",
          "text": [
            "UndefinedMetricWarning: Precision and F-score are ill-defined and being set to 0.0 in labels with no predicted samples. Use `zero_division` parameter to control this behavior.\n"
          ],
          "name": "stderr"
        }
      ]
    },
    {
      "cell_type": "code",
      "metadata": {
        "id": "OMEaN0QsZzpv",
        "colab_type": "code",
        "outputId": "fc6adb0c-d8ba-4634-ee43-3db96699b59b",
        "colab": {
          "base_uri": "https://localhost:8080/",
          "height": 221
        }
      },
      "source": [
        "df.info()"
      ],
      "execution_count": 0,
      "outputs": [
        {
          "output_type": "stream",
          "text": [
            "<class 'pandas.core.frame.DataFrame'>\n",
            "RangeIndex: 23667 entries, 0 to 23666\n",
            "Data columns (total 5 columns):\n",
            " #   Column       Non-Null Count  Dtype \n",
            "---  ------       --------------  ----- \n",
            " 0   page_id      23667 non-null  int64 \n",
            " 1   text         23667 non-null  object\n",
            " 2   entity_name  23667 non-null  object\n",
            " 3   entity_type  23667 non-null  object\n",
            " 4   category     23667 non-null  int64 \n",
            "dtypes: int64(2), object(3)\n",
            "memory usage: 924.6+ KB\n"
          ],
          "name": "stdout"
        }
      ]
    },
    {
      "cell_type": "code",
      "metadata": {
        "id": "DEvtVs25byV3",
        "colab_type": "code",
        "outputId": "496cb277-c358-4323-c418-0429964ee9bd",
        "colab": {
          "base_uri": "https://localhost:8080/",
          "height": 119
        }
      },
      "source": [
        "df.category.value_counts()"
      ],
      "execution_count": 0,
      "outputs": [
        {
          "output_type": "execute_result",
          "data": {
            "text/plain": [
              "1    17869\n",
              "0     3212\n",
              "2     1700\n",
              "9      586\n",
              "3      300\n",
              "Name: category, dtype: int64"
            ]
          },
          "metadata": {
            "tags": []
          },
          "execution_count": 34
        }
      ]
    },
    {
      "cell_type": "code",
      "metadata": {
        "colab_type": "code",
        "id": "dq7VB1ALeGkh",
        "colab": {}
      },
      "source": [
        "X = df['entity_name'].values\n",
        "y = df['category'].values"
      ],
      "execution_count": 0,
      "outputs": []
    },
    {
      "cell_type": "code",
      "metadata": {
        "colab_type": "code",
        "id": "neL8P_greGkw",
        "colab": {}
      },
      "source": [
        "train_x, test_x, train_y, test_y = model_selection.train_test_split(X, y,test_size=0.1,stratify=y,random_state=0)"
      ],
      "execution_count": 0,
      "outputs": []
    },
    {
      "cell_type": "code",
      "metadata": {
        "colab_type": "code",
        "id": "ovf_k-70eGk3",
        "colab": {}
      },
      "source": [
        "tfidf_vect = CountVectorizer()\n",
        "tfidf_vect.fit(train_x)\n",
        "xtrain_tfidf =  tfidf_vect.transform(train_x)\n",
        "xtest_tfidf =  tfidf_vect.transform(test_x)"
      ],
      "execution_count": 0,
      "outputs": []
    },
    {
      "cell_type": "code",
      "metadata": {
        "colab_type": "code",
        "outputId": "946f4994-4672-447c-dba8-87c25cd64cfd",
        "id": "ijs3tsvFeGlA",
        "colab": {
          "base_uri": "https://localhost:8080/",
          "height": 136
        }
      },
      "source": [
        "classifier=xgboost.XGBClassifier()\n",
        "classifier.fit(xtrain_tfidf.tocsc(), train_y)"
      ],
      "execution_count": 0,
      "outputs": [
        {
          "output_type": "execute_result",
          "data": {
            "text/plain": [
              "XGBClassifier(base_score=0.5, booster='gbtree', colsample_bylevel=1,\n",
              "              colsample_bynode=1, colsample_bytree=1, gamma=0,\n",
              "              learning_rate=0.1, max_delta_step=0, max_depth=3,\n",
              "              min_child_weight=1, missing=None, n_estimators=100, n_jobs=1,\n",
              "              nthread=None, objective='multi:softprob', random_state=0,\n",
              "              reg_alpha=0, reg_lambda=1, scale_pos_weight=1, seed=None,\n",
              "              silent=None, subsample=1, verbosity=1)"
            ]
          },
          "metadata": {
            "tags": []
          },
          "execution_count": 51
        }
      ]
    },
    {
      "cell_type": "code",
      "metadata": {
        "colab_type": "code",
        "id": "PTJbGBtqeGlH",
        "colab": {}
      },
      "source": [
        "predictions = classifier.predict(xtest_tfidf.tocsc())\n",
        "preds=np.array(predictions)\n",
        "preds = preds.astype('int64') \n",
        "test_y_n=np.array(test_y)\n",
        "test_y_n= test_y_n.astype('int64') "
      ],
      "execution_count": 0,
      "outputs": []
    },
    {
      "cell_type": "code",
      "metadata": {
        "colab_type": "code",
        "outputId": "40e436ba-4894-49d4-9f9d-9e15e0f07dc5",
        "id": "is7eoV0xeGlK",
        "colab": {
          "base_uri": "https://localhost:8080/",
          "height": 34
        }
      },
      "source": [
        "print(accuracy_score(test_y_n, preds))"
      ],
      "execution_count": 0,
      "outputs": [
        {
          "output_type": "stream",
          "text": [
            "0.7904520490071821\n"
          ],
          "name": "stdout"
        }
      ]
    },
    {
      "cell_type": "code",
      "metadata": {
        "colab_type": "code",
        "outputId": "9b507443-fd1a-45ef-baa2-f94280f6aadb",
        "id": "3g0rKLHNeGlO",
        "colab": {
          "base_uri": "https://localhost:8080/",
          "height": 258
        }
      },
      "source": [
        "print(classification_report(test_y_n, preds))"
      ],
      "execution_count": 0,
      "outputs": [
        {
          "output_type": "stream",
          "text": [
            "              precision    recall  f1-score   support\n",
            "\n",
            "           0       0.00      0.00      0.00       321\n",
            "           1       0.79      1.00      0.88      1787\n",
            "           2       0.96      0.39      0.56       170\n",
            "           3       0.81      0.83      0.82        30\n",
            "           9       0.00      0.00      0.00        59\n",
            "\n",
            "    accuracy                           0.79      2367\n",
            "   macro avg       0.51      0.44      0.45      2367\n",
            "weighted avg       0.67      0.79      0.71      2367\n",
            "\n"
          ],
          "name": "stdout"
        },
        {
          "output_type": "stream",
          "text": [
            "UndefinedMetricWarning: Precision and F-score are ill-defined and being set to 0.0 in labels with no predicted samples. Use `zero_division` parameter to control this behavior.\n"
          ],
          "name": "stderr"
        }
      ]
    },
    {
      "cell_type": "code",
      "metadata": {
        "id": "u0_b6gwXihUd",
        "colab_type": "code",
        "colab": {}
      },
      "source": [
        ""
      ],
      "execution_count": 0,
      "outputs": []
    }
  ]
}